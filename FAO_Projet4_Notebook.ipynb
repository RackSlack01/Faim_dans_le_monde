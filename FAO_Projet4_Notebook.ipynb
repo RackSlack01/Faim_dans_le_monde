{
 "cells": [
  {
   "cell_type": "markdown",
   "id": "8fa21a70",
   "metadata": {},
   "source": [
    "**Importation des CSV**"
   ]
  },
  {
   "cell_type": "code",
   "execution_count": 1,
   "id": "7c72a9a1",
   "metadata": {},
   "outputs": [],
   "source": [
    "# Importation de Pandas\n",
    "import pandas as pd\n",
    "#Importation de Numpy\n",
    "import numpy as np\n",
    "# Importation de Matplotlib\n",
    "import matplotlib.pyplot as plt\n",
    "# Importation Seaborn\n",
    "import seaborn as sns\n",
    "# Importation du 1er CSV : Population \n",
    "pop = pd.read_csv('population.csv')\n",
    "# Importation du 2ème CSV : Insécurité_alimentaire\n",
    "ia = pd.read_csv('insécurité_alimentaire.csv')\n",
    "# Importation du 3ème CSV : Dispo_alimentaire\n",
    "da = pd.read_csv('dispo_alimentaire.csv')\n",
    "# Importation du 4ème CSV : Aide_alimentaire\n",
    "aa = pd.read_csv('aide_alimentaire.csv')\n",
    "# Définition de 2 décimales après chaque résultat\n",
    "pd.set_option('display.precision',2)"
   ]
  },
  {
   "cell_type": "markdown",
   "id": "2e02a99b",
   "metadata": {},
   "source": [
    "**1. Population**"
   ]
  },
  {
   "cell_type": "code",
   "execution_count": 2,
   "id": "21ec0811",
   "metadata": {
    "scrolled": false
   },
   "outputs": [
    {
     "data": {
      "text/html": [
       "<div>\n",
       "<style scoped>\n",
       "    .dataframe tbody tr th:only-of-type {\n",
       "        vertical-align: middle;\n",
       "    }\n",
       "\n",
       "    .dataframe tbody tr th {\n",
       "        vertical-align: top;\n",
       "    }\n",
       "\n",
       "    .dataframe thead th {\n",
       "        text-align: right;\n",
       "    }\n",
       "</style>\n",
       "<table border=\"1\" class=\"dataframe\">\n",
       "  <thead>\n",
       "    <tr style=\"text-align: right;\">\n",
       "      <th></th>\n",
       "      <th>Pays</th>\n",
       "      <th>Année</th>\n",
       "      <th>Population</th>\n",
       "    </tr>\n",
       "  </thead>\n",
       "  <tbody>\n",
       "    <tr>\n",
       "      <th>544</th>\n",
       "      <td>Île de Man</td>\n",
       "      <td>2017</td>\n",
       "      <td>8.36e+04</td>\n",
       "    </tr>\n",
       "    <tr>\n",
       "      <th>88</th>\n",
       "      <td>Australie</td>\n",
       "      <td>2017</td>\n",
       "      <td>2.46e+07</td>\n",
       "    </tr>\n",
       "    <tr>\n",
       "      <th>119</th>\n",
       "      <td>Bangladesh</td>\n",
       "      <td>2018</td>\n",
       "      <td>1.61e+08</td>\n",
       "    </tr>\n",
       "    <tr>\n",
       "      <th>950</th>\n",
       "      <td>Ouganda</td>\n",
       "      <td>2015</td>\n",
       "      <td>3.82e+07</td>\n",
       "    </tr>\n",
       "    <tr>\n",
       "      <th>1275</th>\n",
       "      <td>Suède</td>\n",
       "      <td>2016</td>\n",
       "      <td>9.84e+06</td>\n",
       "    </tr>\n",
       "  </tbody>\n",
       "</table>\n",
       "</div>"
      ],
      "text/plain": [
       "            Pays  Année  Population\n",
       "544   Île de Man   2017    8.36e+04\n",
       "88     Australie   2017    2.46e+07\n",
       "119   Bangladesh   2018    1.61e+08\n",
       "950      Ouganda   2015    3.82e+07\n",
       "1275       Suède   2016    9.84e+06"
      ]
     },
     "execution_count": 2,
     "metadata": {},
     "output_type": "execute_result"
    }
   ],
   "source": [
    "# Renommage des variables 'Zone' et \"Valeur\" en 'Pays' et \"Population\"\n",
    "pop.rename(columns={'Zone': \"Pays\", 'Valeur': \"Population\"}, inplace = True)\n",
    "# Correction de la variable \"Pays\"\n",
    "pop['Population'] *= 1000\n",
    "pop.sample(5)"
   ]
  },
  {
   "cell_type": "markdown",
   "id": "27b0333e",
   "metadata": {},
   "source": [
    "**2. Insécurité Alimentaire**\n",
    "***(sous-nutrition)***"
   ]
  },
  {
   "cell_type": "code",
   "execution_count": 3,
   "id": "641ba554",
   "metadata": {},
   "outputs": [
    {
     "data": {
      "text/html": [
       "<div>\n",
       "<style scoped>\n",
       "    .dataframe tbody tr th:only-of-type {\n",
       "        vertical-align: middle;\n",
       "    }\n",
       "\n",
       "    .dataframe tbody tr th {\n",
       "        vertical-align: top;\n",
       "    }\n",
       "\n",
       "    .dataframe thead th {\n",
       "        text-align: right;\n",
       "    }\n",
       "</style>\n",
       "<table border=\"1\" class=\"dataframe\">\n",
       "  <thead>\n",
       "    <tr style=\"text-align: right;\">\n",
       "      <th></th>\n",
       "      <th>Pays</th>\n",
       "      <th>Population</th>\n",
       "      <th>Population en sous-nutrition</th>\n",
       "      <th>Pourcentage</th>\n",
       "      <th>Année</th>\n",
       "    </tr>\n",
       "  </thead>\n",
       "  <tbody>\n",
       "    <tr>\n",
       "      <th>10</th>\n",
       "      <td>Arménie</td>\n",
       "      <td>2.94e+06</td>\n",
       "      <td>0.00e+00</td>\n",
       "      <td>0.00</td>\n",
       "      <td>2017</td>\n",
       "    </tr>\n",
       "    <tr>\n",
       "      <th>18</th>\n",
       "      <td>Bélarus</td>\n",
       "      <td>9.45e+06</td>\n",
       "      <td>0.00e+00</td>\n",
       "      <td>0.00</td>\n",
       "      <td>2017</td>\n",
       "    </tr>\n",
       "    <tr>\n",
       "      <th>57</th>\n",
       "      <td>Espagne</td>\n",
       "      <td>4.66e+07</td>\n",
       "      <td>0.00e+00</td>\n",
       "      <td>0.00</td>\n",
       "      <td>2017</td>\n",
       "    </tr>\n",
       "    <tr>\n",
       "      <th>93</th>\n",
       "      <td>Japon</td>\n",
       "      <td>1.28e+08</td>\n",
       "      <td>0.00e+00</td>\n",
       "      <td>0.00</td>\n",
       "      <td>2017</td>\n",
       "    </tr>\n",
       "    <tr>\n",
       "      <th>34</th>\n",
       "      <td>Cameroun</td>\n",
       "      <td>2.46e+07</td>\n",
       "      <td>1.60e+06</td>\n",
       "      <td>6.51</td>\n",
       "      <td>2017</td>\n",
       "    </tr>\n",
       "  </tbody>\n",
       "</table>\n",
       "</div>"
      ],
      "text/plain": [
       "        Pays  Population  Population en sous-nutrition  Pourcentage  Année\n",
       "10   Arménie    2.94e+06                      0.00e+00         0.00   2017\n",
       "18   Bélarus    9.45e+06                      0.00e+00         0.00   2017\n",
       "57   Espagne    4.66e+07                      0.00e+00         0.00   2017\n",
       "93     Japon    1.28e+08                      0.00e+00         0.00   2017\n",
       "34  Cameroun    2.46e+07                      1.60e+06         6.51   2017"
      ]
     },
     "execution_count": 3,
     "metadata": {},
     "output_type": "execute_result"
    }
   ],
   "source": [
    "# Changement format 'Valeur' de 'object' à 'float64'\n",
    "ia['Valeur'] = pd.to_numeric(ia['Valeur'], errors='coerce')\n",
    "\n",
    "# Correction de la variable \"Valeur\" : transformer en habitants\n",
    "ia['Valeur'] *= 1000000\n",
    "\n",
    "# Renommage des variables \"Zone\" et \"Valeur\" en \"Pays\" et \"Population en sous-nutrition\"\n",
    "ia.rename(columns={'Zone':\"Pays\", 'Valeur': \"Population en sous-nutrition\"}, inplace = True)\n",
    "\n",
    "# Transformation du format de l'année : moyenne d'année au lieu d'un intervalle ;\n",
    "# on joint les tables \"population\" et \"insécurité alimentaire\"\n",
    "nb_sous_nutrition = pd.merge(pop.loc[pop['Année'] == 2017,[\"Pays\", \"Population\"]],\n",
    "                               ia.loc[ia['Année'] == '2016-2018',[\"Pays\", \"Population en sous-nutrition\"]],\n",
    "                               on='Pays')\n",
    "\n",
    "# Remplissage des valeurs nulles\n",
    "nb_sous_nutrition.fillna(0, inplace = True)\n",
    "\n",
    "# Pourcentage population en sous-nutrition (par pays)\n",
    "nb_sous_nutrition['Pourcentage']= nb_sous_nutrition[\"Population en sous-nutrition\"] / nb_sous_nutrition[\"Population\"]*100\n",
    "\n",
    "# Apparition de la jointure pour 2017\n",
    "nb_sous_nutrition['Année']= 2017\n",
    "nb_sous_nutrition.sample(5)"
   ]
  },
  {
   "cell_type": "markdown",
   "id": "57e0ef6f",
   "metadata": {},
   "source": [
    "**3. Disponibilité alimentaire**"
   ]
  },
  {
   "cell_type": "code",
   "execution_count": 4,
   "id": "8e6defea",
   "metadata": {
    "scrolled": true
   },
   "outputs": [
    {
     "data": {
      "text/html": [
       "<div>\n",
       "<style scoped>\n",
       "    .dataframe tbody tr th:only-of-type {\n",
       "        vertical-align: middle;\n",
       "    }\n",
       "\n",
       "    .dataframe tbody tr th {\n",
       "        vertical-align: top;\n",
       "    }\n",
       "\n",
       "    .dataframe thead th {\n",
       "        text-align: right;\n",
       "    }\n",
       "</style>\n",
       "<table border=\"1\" class=\"dataframe\">\n",
       "  <thead>\n",
       "    <tr style=\"text-align: right;\">\n",
       "      <th></th>\n",
       "      <th>Pays</th>\n",
       "      <th>Produit</th>\n",
       "      <th>Origine</th>\n",
       "      <th>Aliments pour animaux</th>\n",
       "      <th>Autres Utilisations</th>\n",
       "      <th>Disponibilité alimentaire (cal/personne/jour)</th>\n",
       "      <th>Disponibilité alimentaire en quantité (kg/personne/an)</th>\n",
       "      <th>Disponibilité de matière grasse en quantité (g/personne/jour)</th>\n",
       "      <th>Disponibilité de protéines en quantité (g/personne/jour)</th>\n",
       "      <th>Disponibilité intérieure</th>\n",
       "      <th>Exportations - Quantité</th>\n",
       "      <th>Importations - Quantité</th>\n",
       "      <th>Nourriture</th>\n",
       "      <th>Pertes</th>\n",
       "      <th>Production</th>\n",
       "      <th>Semences</th>\n",
       "      <th>Traitement</th>\n",
       "      <th>Variation de stock</th>\n",
       "    </tr>\n",
       "  </thead>\n",
       "  <tbody>\n",
       "    <tr>\n",
       "      <th>7284</th>\n",
       "      <td>Kazakhstan</td>\n",
       "      <td>Pommes</td>\n",
       "      <td>vegetale</td>\n",
       "      <td>1000.0</td>\n",
       "      <td>0.0</td>\n",
       "      <td>53.0</td>\n",
       "      <td>41.91</td>\n",
       "      <td>0.20</td>\n",
       "      <td>0.36</td>\n",
       "      <td>6.93e+05</td>\n",
       "      <td>84000.0</td>\n",
       "      <td>633000.0</td>\n",
       "      <td>6.89e+05</td>\n",
       "      <td>3000.0</td>\n",
       "      <td>1.44e+05</td>\n",
       "      <td>0.0</td>\n",
       "      <td>1000.0</td>\n",
       "      <td>0.0</td>\n",
       "    </tr>\n",
       "    <tr>\n",
       "      <th>4023</th>\n",
       "      <td>Danemark</td>\n",
       "      <td>Abats Comestible</td>\n",
       "      <td>animale</td>\n",
       "      <td>18000.0</td>\n",
       "      <td>0.0</td>\n",
       "      <td>21.0</td>\n",
       "      <td>6.83</td>\n",
       "      <td>0.65</td>\n",
       "      <td>3.44</td>\n",
       "      <td>5.70e+04</td>\n",
       "      <td>264000.0</td>\n",
       "      <td>79000.0</td>\n",
       "      <td>3.80e+04</td>\n",
       "      <td>0.0</td>\n",
       "      <td>2.42e+05</td>\n",
       "      <td>0.0</td>\n",
       "      <td>0.0</td>\n",
       "      <td>0.0</td>\n",
       "    </tr>\n",
       "    <tr>\n",
       "      <th>11777</th>\n",
       "      <td>République de Corée</td>\n",
       "      <td>Oignons</td>\n",
       "      <td>vegetale</td>\n",
       "      <td>0.0</td>\n",
       "      <td>0.0</td>\n",
       "      <td>26.0</td>\n",
       "      <td>24.70</td>\n",
       "      <td>0.14</td>\n",
       "      <td>1.02</td>\n",
       "      <td>1.35e+06</td>\n",
       "      <td>1000.0</td>\n",
       "      <td>59000.0</td>\n",
       "      <td>1.22e+06</td>\n",
       "      <td>135000.0</td>\n",
       "      <td>1.29e+06</td>\n",
       "      <td>0.0</td>\n",
       "      <td>0.0</td>\n",
       "      <td>0.0</td>\n",
       "    </tr>\n",
       "    <tr>\n",
       "      <th>10801</th>\n",
       "      <td>Pays-Bas</td>\n",
       "      <td>Animaux Aquatiques Autre</td>\n",
       "      <td>animale</td>\n",
       "      <td>0.0</td>\n",
       "      <td>36000.0</td>\n",
       "      <td>0.0</td>\n",
       "      <td>0.21</td>\n",
       "      <td>0.00</td>\n",
       "      <td>0.01</td>\n",
       "      <td>4.00e+04</td>\n",
       "      <td>0.0</td>\n",
       "      <td>40000.0</td>\n",
       "      <td>4.00e+03</td>\n",
       "      <td>0.0</td>\n",
       "      <td>0.00e+00</td>\n",
       "      <td>0.0</td>\n",
       "      <td>0.0</td>\n",
       "      <td>0.0</td>\n",
       "    </tr>\n",
       "    <tr>\n",
       "      <th>10718</th>\n",
       "      <td>Paraguay</td>\n",
       "      <td>Café</td>\n",
       "      <td>vegetale</td>\n",
       "      <td>0.0</td>\n",
       "      <td>0.0</td>\n",
       "      <td>0.0</td>\n",
       "      <td>0.39</td>\n",
       "      <td>0.00</td>\n",
       "      <td>0.02</td>\n",
       "      <td>3.00e+03</td>\n",
       "      <td>0.0</td>\n",
       "      <td>2000.0</td>\n",
       "      <td>3.00e+03</td>\n",
       "      <td>0.0</td>\n",
       "      <td>0.00e+00</td>\n",
       "      <td>0.0</td>\n",
       "      <td>0.0</td>\n",
       "      <td>0.0</td>\n",
       "    </tr>\n",
       "  </tbody>\n",
       "</table>\n",
       "</div>"
      ],
      "text/plain": [
       "                      Pays                   Produit   Origine  \\\n",
       "7284            Kazakhstan                    Pommes  vegetale   \n",
       "4023              Danemark          Abats Comestible   animale   \n",
       "11777  République de Corée                   Oignons  vegetale   \n",
       "10801             Pays-Bas  Animaux Aquatiques Autre   animale   \n",
       "10718             Paraguay                      Café  vegetale   \n",
       "\n",
       "       Aliments pour animaux  Autres Utilisations  \\\n",
       "7284                  1000.0                  0.0   \n",
       "4023                 18000.0                  0.0   \n",
       "11777                    0.0                  0.0   \n",
       "10801                    0.0              36000.0   \n",
       "10718                    0.0                  0.0   \n",
       "\n",
       "       Disponibilité alimentaire (cal/personne/jour)  \\\n",
       "7284                                            53.0   \n",
       "4023                                            21.0   \n",
       "11777                                           26.0   \n",
       "10801                                            0.0   \n",
       "10718                                            0.0   \n",
       "\n",
       "       Disponibilité alimentaire en quantité (kg/personne/an)  \\\n",
       "7284                                               41.91        \n",
       "4023                                                6.83        \n",
       "11777                                              24.70        \n",
       "10801                                               0.21        \n",
       "10718                                               0.39        \n",
       "\n",
       "       Disponibilité de matière grasse en quantité (g/personne/jour)  \\\n",
       "7284                                                0.20               \n",
       "4023                                                0.65               \n",
       "11777                                               0.14               \n",
       "10801                                               0.00               \n",
       "10718                                               0.00               \n",
       "\n",
       "       Disponibilité de protéines en quantité (g/personne/jour)  \\\n",
       "7284                                                0.36          \n",
       "4023                                                3.44          \n",
       "11777                                               1.02          \n",
       "10801                                               0.01          \n",
       "10718                                               0.02          \n",
       "\n",
       "       Disponibilité intérieure  Exportations - Quantité  \\\n",
       "7284                   6.93e+05                  84000.0   \n",
       "4023                   5.70e+04                 264000.0   \n",
       "11777                  1.35e+06                   1000.0   \n",
       "10801                  4.00e+04                      0.0   \n",
       "10718                  3.00e+03                      0.0   \n",
       "\n",
       "       Importations - Quantité  Nourriture    Pertes  Production  Semences  \\\n",
       "7284                  633000.0    6.89e+05    3000.0    1.44e+05       0.0   \n",
       "4023                   79000.0    3.80e+04       0.0    2.42e+05       0.0   \n",
       "11777                  59000.0    1.22e+06  135000.0    1.29e+06       0.0   \n",
       "10801                  40000.0    4.00e+03       0.0    0.00e+00       0.0   \n",
       "10718                   2000.0    3.00e+03       0.0    0.00e+00       0.0   \n",
       "\n",
       "       Traitement  Variation de stock  \n",
       "7284       1000.0                 0.0  \n",
       "4023          0.0                 0.0  \n",
       "11777         0.0                 0.0  \n",
       "10801         0.0                 0.0  \n",
       "10718         0.0                 0.0  "
      ]
     },
     "execution_count": 4,
     "metadata": {},
     "output_type": "execute_result"
    }
   ],
   "source": [
    "# Renommage de Zone en \"Pays\" et Disponibilité alimentaire (Kcal/personne/jour) en \n",
    "# \"Disponibilité alimentaire (cal/personne/jour)\"\n",
    "da.rename(columns={'Zone':\"Pays\", 'Disponibilité alimentaire (Kcal/personne/jour)'\n",
    ":\"Disponibilité alimentaire (cal/personne/jour)\"}, inplace = True)\n",
    "\n",
    "# remplissage des valeurs nulles\n",
    "da.fillna(0, inplace = True)\n",
    "\n",
    "# Transformation des milliers de tonnes en tonnes :\n",
    "tonnes = ['Aliments pour animaux', 'Disponibilité intérieure', 'Exportations - Quantité',\n",
    "                        'Importations - Quantité', 'Nourriture', 'Pertes', 'Production',\n",
    "                        'Semences', 'Traitement', 'Variation de stock', 'Autres Utilisations']\n",
    "\n",
    "for x in tonnes:\n",
    "    da[x] *= 1000\n",
    "\n",
    "da.sample(5)"
   ]
  },
  {
   "cell_type": "markdown",
   "id": "73712f32",
   "metadata": {},
   "source": [
    "**4. Aide alimentaire**"
   ]
  },
  {
   "cell_type": "code",
   "execution_count": 5,
   "id": "7f713613",
   "metadata": {
    "scrolled": true
   },
   "outputs": [
    {
     "data": {
      "text/html": [
       "<div>\n",
       "<style scoped>\n",
       "    .dataframe tbody tr th:only-of-type {\n",
       "        vertical-align: middle;\n",
       "    }\n",
       "\n",
       "    .dataframe tbody tr th {\n",
       "        vertical-align: top;\n",
       "    }\n",
       "\n",
       "    .dataframe thead th {\n",
       "        text-align: right;\n",
       "    }\n",
       "</style>\n",
       "<table border=\"1\" class=\"dataframe\">\n",
       "  <thead>\n",
       "    <tr style=\"text-align: right;\">\n",
       "      <th></th>\n",
       "      <th>Pays bénéficiaire</th>\n",
       "      <th>Année</th>\n",
       "      <th>Produit</th>\n",
       "      <th>Quantité d'aide alimentaire donnée</th>\n",
       "    </tr>\n",
       "  </thead>\n",
       "  <tbody>\n",
       "    <tr>\n",
       "      <th>918</th>\n",
       "      <td>Niger</td>\n",
       "      <td>2013</td>\n",
       "      <td>Non-céréales</td>\n",
       "      <td>4644</td>\n",
       "    </tr>\n",
       "    <tr>\n",
       "      <th>526</th>\n",
       "      <td>Haïti</td>\n",
       "      <td>2016</td>\n",
       "      <td>Huiles végétales</td>\n",
       "      <td>516</td>\n",
       "    </tr>\n",
       "    <tr>\n",
       "      <th>816</th>\n",
       "      <td>Mozambique</td>\n",
       "      <td>2013</td>\n",
       "      <td>Huiles végétales</td>\n",
       "      <td>11070</td>\n",
       "    </tr>\n",
       "    <tr>\n",
       "      <th>727</th>\n",
       "      <td>Madagascar</td>\n",
       "      <td>2015</td>\n",
       "      <td>Huiles végétales</td>\n",
       "      <td>512</td>\n",
       "    </tr>\n",
       "    <tr>\n",
       "      <th>273</th>\n",
       "      <td>Côte d'Ivoire</td>\n",
       "      <td>2015</td>\n",
       "      <td>Céréales</td>\n",
       "      <td>5297</td>\n",
       "    </tr>\n",
       "  </tbody>\n",
       "</table>\n",
       "</div>"
      ],
      "text/plain": [
       "    Pays bénéficiaire  Année           Produit  \\\n",
       "918             Niger   2013      Non-céréales   \n",
       "526             Haïti   2016  Huiles végétales   \n",
       "816        Mozambique   2013  Huiles végétales   \n",
       "727        Madagascar   2015  Huiles végétales   \n",
       "273     Côte d'Ivoire   2015          Céréales   \n",
       "\n",
       "     Quantité d'aide alimentaire donnée  \n",
       "918                                4644  \n",
       "526                                 516  \n",
       "816                               11070  \n",
       "727                                 512  \n",
       "273                                5297  "
      ]
     },
     "execution_count": 5,
     "metadata": {},
     "output_type": "execute_result"
    }
   ],
   "source": [
    "# Renommage de la colonne \"Valeur\" en \"Quantité d'aide alimentaire donnée (en tonnes)\"\n",
    "aa.rename(columns={'Valeur':\"Quantité d'aide alimentaire donnée\"}, inplace = True)\n",
    "aa.sample(5)"
   ]
  },
  {
   "cell_type": "markdown",
   "id": "a5d8183d",
   "metadata": {},
   "source": [
    "**Questions**\n",
    "***pour 2017***"
   ]
  },
  {
   "cell_type": "markdown",
   "id": "8442db0a",
   "metadata": {},
   "source": [
    "****Question 1****"
   ]
  },
  {
   "cell_type": "code",
   "execution_count": 6,
   "id": "f9adea12",
   "metadata": {},
   "outputs": [
    {
     "name": "stdout",
     "output_type": "stream",
     "text": [
      "535700000.0\n",
      "Population    7.55e+09\n",
      "dtype: float64\n",
      "7.1 %\n"
     ]
    }
   ],
   "source": [
    "# Proportion de personnes en état de sous-nutrition : Diviser la pop en sous-nutrition par la pop totale\n",
    "\n",
    "# On obtient le total de la pop en sous-nutrition\n",
    "print(nb_sous_nutrition['Population en sous-nutrition'].sum())\n",
    "\n",
    "# On obtient le total de la pop mondiale en 2017\n",
    "pop_2017 = (pop.loc[pop['Année']==2017,['Population']])\n",
    "print(pop_2017.sum())\n",
    "\n",
    "# On divise la population en sous-nutrition par la population mondiale\n",
    "prop_psn = (nb_sous_nutrition['Population en sous-nutrition'].sum() / pop_2017['Population'].sum())*100\n",
    "print(round(prop_psn, 2),\"%\") "
   ]
  },
  {
   "cell_type": "markdown",
   "id": "8b1e3f5e",
   "metadata": {},
   "source": [
    "****Question 2****"
   ]
  },
  {
   "cell_type": "code",
   "execution_count": 7,
   "id": "bc0d8a92",
   "metadata": {},
   "outputs": [
    {
     "name": "stdout",
     "output_type": "stream",
     "text": [
      "Disponibilité alimentaire totale: 7,635,429,388,975,815.0\n",
      "Total d'êtres humains pouvant être nourris : 8,367,593,850.9324\n",
      "Proportion: 110.86 %\n"
     ]
    }
   ],
   "source": [
    "# Nombre théorique de personnes qui pourraient être nourries\n",
    "# Calcul à partir de la disponibilité alimentaire mondiale\n",
    "# Prendre comme référence l'apport nutritionnel de 2500 calories par jour\n",
    "# Total dispo ali / 2500 * 365\n",
    "\n",
    "# Fusion du df disponibilité alimentaire avec la population 2017 \n",
    "nbt = da.merge(pop.loc[pop['Année']==2017,['Pays','Population']],\n",
    "             on = 'Pays')\n",
    "\n",
    "# Disponibilité totale en calorie de toute la population de 2017 sur une année entière\n",
    "nbt['Dispo_cal'] = round(nbt['Disponibilité alimentaire (cal/personne/jour)'] * nbt['Population'] * 365)\n",
    "print(\"Disponibilité alimentaire totale:\",\"{:,}\".format(nbt['Dispo_cal'].sum()))\n",
    "\n",
    "# nb personnes pouvant être nourries\n",
    "nbpn = nbt[\"Dispo_cal\"].sum()/(2500*365)\n",
    "print(\"Total d'êtres humains pouvant être nourris :\",'{:,}'.format(nbpn))\n",
    "\n",
    "# Proportion\n",
    "part = nbpn*100/pop_2017[\"Population\"].sum()\n",
    "print(\"Proportion:\",\"{:.2f}\".format(part),\"%\")"
   ]
  },
  {
   "cell_type": "markdown",
   "id": "aaeed9c9",
   "metadata": {},
   "source": [
    "****Question 3****"
   ]
  },
  {
   "cell_type": "code",
   "execution_count": 8,
   "id": "c09deebe",
   "metadata": {},
   "outputs": [
    {
     "name": "stdout",
     "output_type": "stream",
     "text": [
      "dispo alimentaire totale en cal des produits végétaux : 6,300,178,937,197,865.0\n",
      "Total d'êtres humains pouvant être nourris : 6,904,305,685\n",
      "Proportion : 91.47 %\n"
     ]
    }
   ],
   "source": [
    "# disponibilité alimentaire des produits végétaux, i-e combien de personnes pourraient être nourries avec seulement des \n",
    "# produits végétaux ?\n",
    "# Total dispo ali des produits végétaux / (2000 * 365)\n",
    "\n",
    "# Dispo cal végétaux\n",
    "dav = nbt.loc[nbt['Origine'] == 'vegetale',:] \n",
    "dav['Dispo_cal'].sum()\n",
    "\n",
    "# nb personnes pouvant être nourries (végétale)\n",
    "nbpn_v = round(dav['Dispo_cal'].sum()/(2500*365))\n",
    "nbpn_v\n",
    "\n",
    "# Pourcentage / part\n",
    "part_v = (nbpn_v*100/pop_2017['Population'].sum()) \n",
    "part_v\n",
    "\n",
    "print(\"dispo alimentaire totale en cal des produits végétaux :\", \"{:,}\".format(dav['Dispo_cal'].sum(), \"cal\"))\n",
    "print(\"Total d'êtres humains pouvant être nourris :\",\"{:,}\".format(nbpn_v))\n",
    "print(\"Proportion :\", \"{:.2f}\".format(part_v), \"%\")"
   ]
  },
  {
   "cell_type": "markdown",
   "id": "17fc3b36",
   "metadata": {},
   "source": [
    "****Question 4****"
   ]
  },
  {
   "cell_type": "code",
   "execution_count": 9,
   "id": "32a13e4c",
   "metadata": {},
   "outputs": [
    {
     "data": {
      "text/plain": [
       "Nourriture               49.51\n",
       "Aliments pour animaux    13.24\n",
       "Pertes                    4.61\n",
       "dtype: float64"
      ]
     },
     "execution_count": 9,
     "metadata": {},
     "output_type": "execute_result"
    }
   ],
   "source": [
    "# utilisation de la disponibilité intérieure: pour les animaux, pour la perte et pour l'homme\n",
    "# proviennent toutes de la même table\n",
    "# Nourriture / disponibilité intérieure\n",
    "# Aliments pour animaux / disponibilité intérieure\n",
    "# Pertes / Disponibilité intérieure\n",
    "\n",
    "# Essaie d'itérer un même calcul pour 3 variables dans une boucle for\n",
    "udi = [['Nourriture','Aliments pour animaux','Pertes']]\n",
    "\n",
    "for x in udi:\n",
    "    p = da[x].sum() / da['Disponibilité intérieure'].sum() *100\n",
    "\n",
    "p"
   ]
  },
  {
   "cell_type": "code",
   "execution_count": 10,
   "id": "161beb72",
   "metadata": {},
   "outputs": [
    {
     "data": {
      "image/png": "[encoded data removed]",
      "text/plain": [
       "<Figure size 432x288 with 1 Axes>"
      ]
     },
     "metadata": {},
     "output_type": "display_data"
    }
   ],
   "source": [
    "y = (49.51, 13.24, 4.61, 32.64)\n",
    "\n",
    "newlabels = [\"Nourriture : 49.51%\",\"Animaux : 13.24%\",\"Pertes : 4.62%\", \"Autres : 32.64%\"]\n",
    "myexplosion = [0, 0, 0, 0.2]\n",
    "\n",
    "plt.pie(y, labels = newlabels, startangle = 45, explode = myexplosion)\n",
    "\n",
    "plt.show()"
   ]
  },
  {
   "cell_type": "markdown",
   "id": "9aef9fc1",
   "metadata": {},
   "source": [
    "**Partie 2**"
   ]
  },
  {
   "cell_type": "code",
   "execution_count": 11,
   "id": "6e4ea39d",
   "metadata": {},
   "outputs": [
    {
     "data": {
      "text/html": [
       "<div>\n",
       "<style scoped>\n",
       "    .dataframe tbody tr th:only-of-type {\n",
       "        vertical-align: middle;\n",
       "    }\n",
       "\n",
       "    .dataframe tbody tr th {\n",
       "        vertical-align: top;\n",
       "    }\n",
       "\n",
       "    .dataframe thead th {\n",
       "        text-align: right;\n",
       "    }\n",
       "</style>\n",
       "<table border=\"1\" class=\"dataframe\">\n",
       "  <thead>\n",
       "    <tr style=\"text-align: right;\">\n",
       "      <th></th>\n",
       "      <th>Pays</th>\n",
       "      <th>Population</th>\n",
       "      <th>Population en sous-nutrition</th>\n",
       "      <th>Pourcentage</th>\n",
       "      <th>Année</th>\n",
       "    </tr>\n",
       "  </thead>\n",
       "  <tbody>\n",
       "    <tr>\n",
       "      <th>78</th>\n",
       "      <td>Haïti</td>\n",
       "      <td>1.10e+07</td>\n",
       "      <td>5.30e+06</td>\n",
       "      <td>48.26</td>\n",
       "      <td>2017</td>\n",
       "    </tr>\n",
       "    <tr>\n",
       "      <th>157</th>\n",
       "      <td>République populaire démocratique de Corée</td>\n",
       "      <td>2.54e+07</td>\n",
       "      <td>1.20e+07</td>\n",
       "      <td>47.19</td>\n",
       "      <td>2017</td>\n",
       "    </tr>\n",
       "    <tr>\n",
       "      <th>108</th>\n",
       "      <td>Madagascar</td>\n",
       "      <td>2.56e+07</td>\n",
       "      <td>1.05e+07</td>\n",
       "      <td>41.06</td>\n",
       "      <td>2017</td>\n",
       "    </tr>\n",
       "    <tr>\n",
       "      <th>103</th>\n",
       "      <td>Libéria</td>\n",
       "      <td>4.70e+06</td>\n",
       "      <td>1.80e+06</td>\n",
       "      <td>38.28</td>\n",
       "      <td>2017</td>\n",
       "    </tr>\n",
       "    <tr>\n",
       "      <th>100</th>\n",
       "      <td>Lesotho</td>\n",
       "      <td>2.09e+06</td>\n",
       "      <td>8.00e+05</td>\n",
       "      <td>38.25</td>\n",
       "      <td>2017</td>\n",
       "    </tr>\n",
       "    <tr>\n",
       "      <th>183</th>\n",
       "      <td>Tchad</td>\n",
       "      <td>1.50e+07</td>\n",
       "      <td>5.70e+06</td>\n",
       "      <td>37.96</td>\n",
       "      <td>2017</td>\n",
       "    </tr>\n",
       "  </tbody>\n",
       "</table>\n",
       "</div>"
      ],
      "text/plain": [
       "                                           Pays  Population  \\\n",
       "78                                        Haïti    1.10e+07   \n",
       "157  République populaire démocratique de Corée    2.54e+07   \n",
       "108                                  Madagascar    2.56e+07   \n",
       "103                                     Libéria    4.70e+06   \n",
       "100                                     Lesotho    2.09e+06   \n",
       "183                                       Tchad    1.50e+07   \n",
       "\n",
       "     Population en sous-nutrition  Pourcentage  Année  \n",
       "78                       5.30e+06        48.26   2017  \n",
       "157                      1.20e+07        47.19   2017  \n",
       "108                      1.05e+07        41.06   2017  \n",
       "103                      1.80e+06        38.28   2017  \n",
       "100                      8.00e+05        38.25   2017  \n",
       "183                      5.70e+06        37.96   2017  "
      ]
     },
     "execution_count": 11,
     "metadata": {},
     "output_type": "execute_result"
    }
   ],
   "source": [
    "# Pays où la proportion de personnes sous-alimentées est la plus forte en 2017\n",
    "\n",
    "nb_sous_nutrition.nlargest(6, \"Pourcentage\")"
   ]
  },
  {
   "cell_type": "code",
   "execution_count": 12,
   "id": "8ec69d40",
   "metadata": {},
   "outputs": [
    {
     "data": {
      "image/png": "[encoded data removed]",
      "text/plain": [
       "<Figure size 432x288 with 1 Axes>"
      ]
     },
     "metadata": {
      "needs_background": "light"
     },
     "output_type": "display_data"
    }
   ],
   "source": [
    "x = np.array([\"Haïti\",\"Corée\",\"Madagascar\",\"Libéria\",\"Lesotho\",\"Tchad\"])\n",
    "y = np.array([48.26, 47.19, 41.06, 38.28, 38.25, 37.96])\n",
    "\n",
    "plt.bar(x, y, color = \"k\", alpha = 0.5)\n",
    "\n",
    "plt.show()"
   ]
  },
  {
   "cell_type": "code",
   "execution_count": 13,
   "id": "9f96b27d",
   "metadata": {
    "scrolled": false
   },
   "outputs": [
    {
     "data": {
      "text/html": [
       "<div>\n",
       "<style scoped>\n",
       "    .dataframe tbody tr th:only-of-type {\n",
       "        vertical-align: middle;\n",
       "    }\n",
       "\n",
       "    .dataframe tbody tr th {\n",
       "        vertical-align: top;\n",
       "    }\n",
       "\n",
       "    .dataframe thead th {\n",
       "        text-align: right;\n",
       "    }\n",
       "</style>\n",
       "<table border=\"1\" class=\"dataframe\">\n",
       "  <thead>\n",
       "    <tr style=\"text-align: right;\">\n",
       "      <th></th>\n",
       "      <th>Quantité d'aide alimentaire donnée</th>\n",
       "    </tr>\n",
       "    <tr>\n",
       "      <th>Pays bénéficiaire</th>\n",
       "      <th></th>\n",
       "    </tr>\n",
       "  </thead>\n",
       "  <tbody>\n",
       "    <tr>\n",
       "      <th>République arabe syrienne</th>\n",
       "      <td>1858943</td>\n",
       "    </tr>\n",
       "    <tr>\n",
       "      <th>Éthiopie</th>\n",
       "      <td>1381294</td>\n",
       "    </tr>\n",
       "    <tr>\n",
       "      <th>Yémen</th>\n",
       "      <td>1206484</td>\n",
       "    </tr>\n",
       "    <tr>\n",
       "      <th>Soudan du Sud</th>\n",
       "      <td>695248</td>\n",
       "    </tr>\n",
       "    <tr>\n",
       "      <th>Soudan</th>\n",
       "      <td>669784</td>\n",
       "    </tr>\n",
       "    <tr>\n",
       "      <th>Kenya</th>\n",
       "      <td>552836</td>\n",
       "    </tr>\n",
       "  </tbody>\n",
       "</table>\n",
       "</div>"
      ],
      "text/plain": [
       "                           Quantité d'aide alimentaire donnée\n",
       "Pays bénéficiaire                                            \n",
       "République arabe syrienne                             1858943\n",
       "Éthiopie                                              1381294\n",
       "Yémen                                                 1206484\n",
       "Soudan du Sud                                          695248\n",
       "Soudan                                                 669784\n",
       "Kenya                                                  552836"
      ]
     },
     "execution_count": 13,
     "metadata": {},
     "output_type": "execute_result"
    }
   ],
   "source": [
    "# Pays qui ont le plus bénéficié d'aide depuis 2013\n",
    "\n",
    "pb = aa.loc[aa[\"Année\"]>= 2013]\n",
    "pb1= pb.groupby([\"Pays bénéficiaire\"]).sum()\n",
    "pb2 = pb1.nlargest(6, \"Quantité d'aide alimentaire donnée\")\n",
    "pb2.drop([\"Année\"], axis = 1)"
   ]
  },
  {
   "cell_type": "code",
   "execution_count": 14,
   "id": "f462de00",
   "metadata": {},
   "outputs": [
    {
     "data": {
      "image/png": "[encoded data removed]",
      "text/plain": [
       "<Figure size 432x288 with 1 Axes>"
      ]
     },
     "metadata": {
      "needs_background": "light"
     },
     "output_type": "display_data"
    }
   ],
   "source": [
    "x = np.array([\"Syrie\",\"Ethiopie\",\"Yémen\",\"Soudan\",\"Kenya\"])\n",
    "y = np.array([1858943, 1381294, 1206484, 669784, 552836])\n",
    "\n",
    "plt.barh(x, y, color = \"c\", alpha = 1)\n",
    "\n",
    "plt.show()"
   ]
  },
  {
   "cell_type": "code",
   "execution_count": 15,
   "id": "188e4991",
   "metadata": {},
   "outputs": [
    {
     "data": {
      "text/html": [
       "<div>\n",
       "<style scoped>\n",
       "    .dataframe tbody tr th:only-of-type {\n",
       "        vertical-align: middle;\n",
       "    }\n",
       "\n",
       "    .dataframe tbody tr th {\n",
       "        vertical-align: top;\n",
       "    }\n",
       "\n",
       "    .dataframe thead th {\n",
       "        text-align: right;\n",
       "    }\n",
       "</style>\n",
       "<table border=\"1\" class=\"dataframe\">\n",
       "  <thead>\n",
       "    <tr style=\"text-align: right;\">\n",
       "      <th></th>\n",
       "      <th>Aliments pour animaux</th>\n",
       "      <th>Autres Utilisations</th>\n",
       "      <th>Disponibilité alimentaire (cal/personne/jour)</th>\n",
       "      <th>Disponibilité alimentaire en quantité (kg/personne/an)</th>\n",
       "      <th>Disponibilité de matière grasse en quantité (g/personne/jour)</th>\n",
       "      <th>Disponibilité de protéines en quantité (g/personne/jour)</th>\n",
       "      <th>Disponibilité intérieure</th>\n",
       "      <th>Exportations - Quantité</th>\n",
       "      <th>Importations - Quantité</th>\n",
       "      <th>Nourriture</th>\n",
       "      <th>Pertes</th>\n",
       "      <th>Production</th>\n",
       "      <th>Semences</th>\n",
       "      <th>Traitement</th>\n",
       "      <th>Variation de stock</th>\n",
       "    </tr>\n",
       "    <tr>\n",
       "      <th>Pays</th>\n",
       "      <th></th>\n",
       "      <th></th>\n",
       "      <th></th>\n",
       "      <th></th>\n",
       "      <th></th>\n",
       "      <th></th>\n",
       "      <th></th>\n",
       "      <th></th>\n",
       "      <th></th>\n",
       "      <th></th>\n",
       "      <th></th>\n",
       "      <th></th>\n",
       "      <th></th>\n",
       "      <th></th>\n",
       "      <th></th>\n",
       "    </tr>\n",
       "  </thead>\n",
       "  <tbody>\n",
       "    <tr>\n",
       "      <th>Monténégro</th>\n",
       "      <td>1.73e+05</td>\n",
       "      <td>2.10e+04</td>\n",
       "      <td>3490.0</td>\n",
       "      <td>1210.41</td>\n",
       "      <td>131.66</td>\n",
       "      <td>111.90</td>\n",
       "      <td>1.01e+06</td>\n",
       "      <td>4.10e+04</td>\n",
       "      <td>4.58e+05</td>\n",
       "      <td>7.52e+05</td>\n",
       "      <td>33000.0</td>\n",
       "      <td>5.91e+05</td>\n",
       "      <td>3000.0</td>\n",
       "      <td>29000.0</td>\n",
       "      <td>0.0</td>\n",
       "    </tr>\n",
       "    <tr>\n",
       "      <th>Luxembourg</th>\n",
       "      <td>1.47e+05</td>\n",
       "      <td>1.10e+04</td>\n",
       "      <td>3540.0</td>\n",
       "      <td>1150.66</td>\n",
       "      <td>141.49</td>\n",
       "      <td>113.64</td>\n",
       "      <td>8.02e+05</td>\n",
       "      <td>8.21e+05</td>\n",
       "      <td>1.08e+06</td>\n",
       "      <td>6.07e+05</td>\n",
       "      <td>11000.0</td>\n",
       "      <td>5.93e+05</td>\n",
       "      <td>9000.0</td>\n",
       "      <td>24000.0</td>\n",
       "      <td>-41000.0</td>\n",
       "    </tr>\n",
       "    <tr>\n",
       "      <th>Irlande</th>\n",
       "      <td>3.76e+06</td>\n",
       "      <td>1.12e+06</td>\n",
       "      <td>3602.0</td>\n",
       "      <td>1150.15</td>\n",
       "      <td>125.69</td>\n",
       "      <td>109.91</td>\n",
       "      <td>1.07e+07</td>\n",
       "      <td>6.83e+06</td>\n",
       "      <td>6.25e+06</td>\n",
       "      <td>5.32e+06</td>\n",
       "      <td>236000.0</td>\n",
       "      <td>1.15e+07</td>\n",
       "      <td>89000.0</td>\n",
       "      <td>399000.0</td>\n",
       "      <td>-192000.0</td>\n",
       "    </tr>\n",
       "    <tr>\n",
       "      <th>Albanie</th>\n",
       "      <td>6.60e+05</td>\n",
       "      <td>1.74e+05</td>\n",
       "      <td>3188.0</td>\n",
       "      <td>1095.54</td>\n",
       "      <td>106.48</td>\n",
       "      <td>111.37</td>\n",
       "      <td>4.76e+06</td>\n",
       "      <td>9.40e+04</td>\n",
       "      <td>9.33e+05</td>\n",
       "      <td>3.48e+06</td>\n",
       "      <td>276000.0</td>\n",
       "      <td>3.96e+06</td>\n",
       "      <td>55000.0</td>\n",
       "      <td>113000.0</td>\n",
       "      <td>-45000.0</td>\n",
       "    </tr>\n",
       "    <tr>\n",
       "      <th>Finlande</th>\n",
       "      <td>2.15e+06</td>\n",
       "      <td>6.41e+05</td>\n",
       "      <td>3366.0</td>\n",
       "      <td>1093.77</td>\n",
       "      <td>140.02</td>\n",
       "      <td>117.56</td>\n",
       "      <td>1.00e+07</td>\n",
       "      <td>2.04e+06</td>\n",
       "      <td>3.28e+06</td>\n",
       "      <td>5.94e+06</td>\n",
       "      <td>40000.0</td>\n",
       "      <td>9.29e+06</td>\n",
       "      <td>321000.0</td>\n",
       "      <td>939000.0</td>\n",
       "      <td>-493000.0</td>\n",
       "    </tr>\n",
       "  </tbody>\n",
       "</table>\n",
       "</div>"
      ],
      "text/plain": [
       "            Aliments pour animaux  Autres Utilisations  \\\n",
       "Pays                                                     \n",
       "Monténégro               1.73e+05             2.10e+04   \n",
       "Luxembourg               1.47e+05             1.10e+04   \n",
       "Irlande                  3.76e+06             1.12e+06   \n",
       "Albanie                  6.60e+05             1.74e+05   \n",
       "Finlande                 2.15e+06             6.41e+05   \n",
       "\n",
       "            Disponibilité alimentaire (cal/personne/jour)  \\\n",
       "Pays                                                        \n",
       "Monténégro                                         3490.0   \n",
       "Luxembourg                                         3540.0   \n",
       "Irlande                                            3602.0   \n",
       "Albanie                                            3188.0   \n",
       "Finlande                                           3366.0   \n",
       "\n",
       "            Disponibilité alimentaire en quantité (kg/personne/an)  \\\n",
       "Pays                                                                 \n",
       "Monténégro                                            1210.41        \n",
       "Luxembourg                                            1150.66        \n",
       "Irlande                                               1150.15        \n",
       "Albanie                                               1095.54        \n",
       "Finlande                                              1093.77        \n",
       "\n",
       "            Disponibilité de matière grasse en quantité (g/personne/jour)  \\\n",
       "Pays                                                                        \n",
       "Monténégro                                             131.66               \n",
       "Luxembourg                                             141.49               \n",
       "Irlande                                                125.69               \n",
       "Albanie                                                106.48               \n",
       "Finlande                                               140.02               \n",
       "\n",
       "            Disponibilité de protéines en quantité (g/personne/jour)  \\\n",
       "Pays                                                                   \n",
       "Monténégro                                             111.90          \n",
       "Luxembourg                                             113.64          \n",
       "Irlande                                                109.91          \n",
       "Albanie                                                111.37          \n",
       "Finlande                                               117.56          \n",
       "\n",
       "            Disponibilité intérieure  Exportations - Quantité  \\\n",
       "Pays                                                            \n",
       "Monténégro                  1.01e+06                 4.10e+04   \n",
       "Luxembourg                  8.02e+05                 8.21e+05   \n",
       "Irlande                     1.07e+07                 6.83e+06   \n",
       "Albanie                     4.76e+06                 9.40e+04   \n",
       "Finlande                    1.00e+07                 2.04e+06   \n",
       "\n",
       "            Importations - Quantité  Nourriture    Pertes  Production  \\\n",
       "Pays                                                                    \n",
       "Monténégro                 4.58e+05    7.52e+05   33000.0    5.91e+05   \n",
       "Luxembourg                 1.08e+06    6.07e+05   11000.0    5.93e+05   \n",
       "Irlande                    6.25e+06    5.32e+06  236000.0    1.15e+07   \n",
       "Albanie                    9.33e+05    3.48e+06  276000.0    3.96e+06   \n",
       "Finlande                   3.28e+06    5.94e+06   40000.0    9.29e+06   \n",
       "\n",
       "            Semences  Traitement  Variation de stock  \n",
       "Pays                                                  \n",
       "Monténégro    3000.0     29000.0                 0.0  \n",
       "Luxembourg    9000.0     24000.0            -41000.0  \n",
       "Irlande      89000.0    399000.0           -192000.0  \n",
       "Albanie      55000.0    113000.0            -45000.0  \n",
       "Finlande    321000.0    939000.0           -493000.0  "
      ]
     },
     "execution_count": 15,
     "metadata": {},
     "output_type": "execute_result"
    }
   ],
   "source": [
    "# Pays ayant le plus / le moins de disponibilité alimentaire par habitant\n",
    "\n",
    "ppda = da.groupby([\"Pays\"]).sum()\n",
    "ppda1 = ppda.nlargest(5, \"Disponibilité alimentaire en quantité (kg/personne/an)\")\n",
    "ppda1"
   ]
  },
  {
   "cell_type": "code",
   "execution_count": 16,
   "id": "cc7967d0",
   "metadata": {},
   "outputs": [
    {
     "data": {
      "image/png": "[encoded data removed]",
      "text/plain": [
       "<Figure size 432x288 with 1 Axes>"
      ]
     },
     "metadata": {
      "needs_background": "light"
     },
     "output_type": "display_data"
    }
   ],
   "source": [
    "x = np.array([\"Monténégro\",\"Luxembourg\",\"Irlande\",\"Albanie\",\"Finlande\"])\n",
    "y = np.array([1210.41, 1150.66, 1150.15, 1095.54, 1093.77])\n",
    "\n",
    "plt.bar(x, y, color = \"hotpink\", alpha = 0.7)\n",
    "\n",
    "plt.show()"
   ]
  },
  {
   "cell_type": "code",
   "execution_count": 17,
   "id": "8b32525e",
   "metadata": {},
   "outputs": [
    {
     "data": {
      "text/html": [
       "<div>\n",
       "<style scoped>\n",
       "    .dataframe tbody tr th:only-of-type {\n",
       "        vertical-align: middle;\n",
       "    }\n",
       "\n",
       "    .dataframe tbody tr th {\n",
       "        vertical-align: top;\n",
       "    }\n",
       "\n",
       "    .dataframe thead th {\n",
       "        text-align: right;\n",
       "    }\n",
       "</style>\n",
       "<table border=\"1\" class=\"dataframe\">\n",
       "  <thead>\n",
       "    <tr style=\"text-align: right;\">\n",
       "      <th></th>\n",
       "      <th>Aliments pour animaux</th>\n",
       "      <th>Autres Utilisations</th>\n",
       "      <th>Disponibilité alimentaire (cal/personne/jour)</th>\n",
       "      <th>Disponibilité alimentaire en quantité (kg/personne/an)</th>\n",
       "      <th>Disponibilité de matière grasse en quantité (g/personne/jour)</th>\n",
       "      <th>Disponibilité de protéines en quantité (g/personne/jour)</th>\n",
       "      <th>Disponibilité intérieure</th>\n",
       "      <th>Exportations - Quantité</th>\n",
       "      <th>Importations - Quantité</th>\n",
       "      <th>Nourriture</th>\n",
       "      <th>Pertes</th>\n",
       "      <th>Production</th>\n",
       "      <th>Semences</th>\n",
       "      <th>Traitement</th>\n",
       "      <th>Variation de stock</th>\n",
       "    </tr>\n",
       "    <tr>\n",
       "      <th>Pays</th>\n",
       "      <th></th>\n",
       "      <th></th>\n",
       "      <th></th>\n",
       "      <th></th>\n",
       "      <th></th>\n",
       "      <th></th>\n",
       "      <th></th>\n",
       "      <th></th>\n",
       "      <th></th>\n",
       "      <th></th>\n",
       "      <th></th>\n",
       "      <th></th>\n",
       "      <th></th>\n",
       "      <th></th>\n",
       "      <th></th>\n",
       "    </tr>\n",
       "  </thead>\n",
       "  <tbody>\n",
       "    <tr>\n",
       "      <th>Tchad</th>\n",
       "      <td>104000.0</td>\n",
       "      <td>2.00e+03</td>\n",
       "      <td>2109.0</td>\n",
       "      <td>319.45</td>\n",
       "      <td>47.10</td>\n",
       "      <td>62.75</td>\n",
       "      <td>5.30e+06</td>\n",
       "      <td>0.0</td>\n",
       "      <td>2.90e+05</td>\n",
       "      <td>4.10e+06</td>\n",
       "      <td>4.59e+05</td>\n",
       "      <td>5.15e+06</td>\n",
       "      <td>101000.0</td>\n",
       "      <td>5.42e+05</td>\n",
       "      <td>-1.41e+05</td>\n",
       "    </tr>\n",
       "    <tr>\n",
       "      <th>Zimbabwe</th>\n",
       "      <td>131000.0</td>\n",
       "      <td>2.30e+04</td>\n",
       "      <td>2113.0</td>\n",
       "      <td>336.59</td>\n",
       "      <td>57.18</td>\n",
       "      <td>48.32</td>\n",
       "      <td>9.51e+06</td>\n",
       "      <td>278000.0</td>\n",
       "      <td>1.34e+06</td>\n",
       "      <td>4.76e+06</td>\n",
       "      <td>1.88e+05</td>\n",
       "      <td>7.91e+06</td>\n",
       "      <td>76000.0</td>\n",
       "      <td>4.33e+06</td>\n",
       "      <td>5.31e+05</td>\n",
       "    </tr>\n",
       "    <tr>\n",
       "      <th>Zambie</th>\n",
       "      <td>408000.0</td>\n",
       "      <td>6.90e+04</td>\n",
       "      <td>1924.0</td>\n",
       "      <td>350.12</td>\n",
       "      <td>42.05</td>\n",
       "      <td>55.22</td>\n",
       "      <td>1.00e+07</td>\n",
       "      <td>675000.0</td>\n",
       "      <td>3.80e+05</td>\n",
       "      <td>5.09e+06</td>\n",
       "      <td>2.42e+05</td>\n",
       "      <td>1.05e+07</td>\n",
       "      <td>76000.0</td>\n",
       "      <td>4.18e+06</td>\n",
       "      <td>-1.82e+05</td>\n",
       "    </tr>\n",
       "    <tr>\n",
       "      <th>Afghanistan</th>\n",
       "      <td>768000.0</td>\n",
       "      <td>4.15e+05</td>\n",
       "      <td>2087.0</td>\n",
       "      <td>351.41</td>\n",
       "      <td>33.50</td>\n",
       "      <td>58.26</td>\n",
       "      <td>1.35e+07</td>\n",
       "      <td>278000.0</td>\n",
       "      <td>2.99e+06</td>\n",
       "      <td>1.07e+07</td>\n",
       "      <td>1.14e+06</td>\n",
       "      <td>1.12e+07</td>\n",
       "      <td>395000.0</td>\n",
       "      <td>6.30e+04</td>\n",
       "      <td>-3.68e+05</td>\n",
       "    </tr>\n",
       "    <tr>\n",
       "      <th>Éthiopie</th>\n",
       "      <td>685000.0</td>\n",
       "      <td>3.64e+06</td>\n",
       "      <td>2129.0</td>\n",
       "      <td>354.55</td>\n",
       "      <td>25.89</td>\n",
       "      <td>60.39</td>\n",
       "      <td>4.40e+07</td>\n",
       "      <td>941000.0</td>\n",
       "      <td>1.71e+06</td>\n",
       "      <td>3.34e+07</td>\n",
       "      <td>2.26e+06</td>\n",
       "      <td>4.61e+07</td>\n",
       "      <td>640000.0</td>\n",
       "      <td>3.44e+06</td>\n",
       "      <td>-2.86e+06</td>\n",
       "    </tr>\n",
       "  </tbody>\n",
       "</table>\n",
       "</div>"
      ],
      "text/plain": [
       "             Aliments pour animaux  Autres Utilisations  \\\n",
       "Pays                                                      \n",
       "Tchad                     104000.0             2.00e+03   \n",
       "Zimbabwe                  131000.0             2.30e+04   \n",
       "Zambie                    408000.0             6.90e+04   \n",
       "Afghanistan               768000.0             4.15e+05   \n",
       "Éthiopie                  685000.0             3.64e+06   \n",
       "\n",
       "             Disponibilité alimentaire (cal/personne/jour)  \\\n",
       "Pays                                                         \n",
       "Tchad                                               2109.0   \n",
       "Zimbabwe                                            2113.0   \n",
       "Zambie                                              1924.0   \n",
       "Afghanistan                                         2087.0   \n",
       "Éthiopie                                            2129.0   \n",
       "\n",
       "             Disponibilité alimentaire en quantité (kg/personne/an)  \\\n",
       "Pays                                                                  \n",
       "Tchad                                                   319.45        \n",
       "Zimbabwe                                                336.59        \n",
       "Zambie                                                  350.12        \n",
       "Afghanistan                                             351.41        \n",
       "Éthiopie                                                354.55        \n",
       "\n",
       "             Disponibilité de matière grasse en quantité (g/personne/jour)  \\\n",
       "Pays                                                                         \n",
       "Tchad                                                    47.10               \n",
       "Zimbabwe                                                 57.18               \n",
       "Zambie                                                   42.05               \n",
       "Afghanistan                                              33.50               \n",
       "Éthiopie                                                 25.89               \n",
       "\n",
       "             Disponibilité de protéines en quantité (g/personne/jour)  \\\n",
       "Pays                                                                    \n",
       "Tchad                                                    62.75          \n",
       "Zimbabwe                                                 48.32          \n",
       "Zambie                                                   55.22          \n",
       "Afghanistan                                              58.26          \n",
       "Éthiopie                                                 60.39          \n",
       "\n",
       "             Disponibilité intérieure  Exportations - Quantité  \\\n",
       "Pays                                                             \n",
       "Tchad                        5.30e+06                      0.0   \n",
       "Zimbabwe                     9.51e+06                 278000.0   \n",
       "Zambie                       1.00e+07                 675000.0   \n",
       "Afghanistan                  1.35e+07                 278000.0   \n",
       "Éthiopie                     4.40e+07                 941000.0   \n",
       "\n",
       "             Importations - Quantité  Nourriture    Pertes  Production  \\\n",
       "Pays                                                                     \n",
       "Tchad                       2.90e+05    4.10e+06  4.59e+05    5.15e+06   \n",
       "Zimbabwe                    1.34e+06    4.76e+06  1.88e+05    7.91e+06   \n",
       "Zambie                      3.80e+05    5.09e+06  2.42e+05    1.05e+07   \n",
       "Afghanistan                 2.99e+06    1.07e+07  1.14e+06    1.12e+07   \n",
       "Éthiopie                    1.71e+06    3.34e+07  2.26e+06    4.61e+07   \n",
       "\n",
       "             Semences  Traitement  Variation de stock  \n",
       "Pays                                                   \n",
       "Tchad        101000.0    5.42e+05           -1.41e+05  \n",
       "Zimbabwe      76000.0    4.33e+06            5.31e+05  \n",
       "Zambie        76000.0    4.18e+06           -1.82e+05  \n",
       "Afghanistan  395000.0    6.30e+04           -3.68e+05  \n",
       "Éthiopie     640000.0    3.44e+06           -2.86e+06  "
      ]
     },
     "execution_count": 17,
     "metadata": {},
     "output_type": "execute_result"
    }
   ],
   "source": [
    "pmda = da.groupby(\"Pays\").sum()\n",
    "pmda1 = pmda.nsmallest(5, \"Disponibilité alimentaire en quantité (kg/personne/an)\")\n",
    "pmda1"
   ]
  },
  {
   "cell_type": "code",
   "execution_count": 18,
   "id": "8d1fa9e4",
   "metadata": {},
   "outputs": [
    {
     "data": {
      "image/png": "[encoded data removed]",
      "text/plain": [
       "<Figure size 432x288 with 1 Axes>"
      ]
     },
     "metadata": {
      "needs_background": "light"
     },
     "output_type": "display_data"
    }
   ],
   "source": [
    "x = np.array([\"Tchad\",\"Zimbabwe\",\"Zambie\",\"Afghanistan\",\"Ethiopie\"])\n",
    "y = np.array([319.45, 336.59, 350.12, 351.41, 354.55])\n",
    "\n",
    "plt.barh(x, y, color = \"k\", alpha = 0.5)\n",
    "\n",
    "plt.show()"
   ]
  },
  {
   "cell_type": "markdown",
   "id": "4eefaa2b",
   "metadata": {},
   "source": [
    "**Autres infos utiles (supplément)**"
   ]
  },
  {
   "cell_type": "code",
   "execution_count": 19,
   "id": "cc84ac16",
   "metadata": {},
   "outputs": [
    {
     "data": {
      "image/png": "[encoded data removed]",
      "text/plain": [
       "<Figure size 432x288 with 2 Axes>"
      ]
     },
     "metadata": {
      "needs_background": "light"
     },
     "output_type": "display_data"
    }
   ],
   "source": [
    "# Comparaison des pays qui ont la plus forte disponibilité en kg/personne \n",
    "# aux pays qui en ont le moins :\n",
    "\n",
    "x = np.array([\"Mtn\",\"Lxb\",\"Ird\",\"Alb\",\"Fnl\"])\n",
    "y = np.array([1210.41, 1150.66, 1150.15, 1095.54, 1093.77])\n",
    "plt.scatter(x, y, color = 'r', s = 100, alpha = 1)\n",
    "\n",
    "\n",
    "x = np.array([\"Td\",\"Zmb\",\"Zam\",\"Afg\",\"Eth\"])\n",
    "y = np.array([319.45, 336.59, 350.12, 351.41, 354.55])\n",
    "\n",
    "plt.colorbar()\n",
    "\n",
    "plt.scatter(x, y, color = 'b', s = 100, alpha = 1)\n",
    "plt.show()"
   ]
  },
  {
   "cell_type": "code",
   "execution_count": 20,
   "id": "a999f223",
   "metadata": {},
   "outputs": [
    {
     "data": {
      "text/plain": [
       "Aliments pour animaux    110668.60\n",
       "Nourriture                30953.49\n",
       "dtype: float64"
      ]
     },
     "execution_count": 20,
     "metadata": {},
     "output_type": "execute_result"
    }
   ],
   "source": [
    "# Répartition céréales animaux & hommes\n",
    "\n",
    "rep1 = da.loc[da[\"Produit\"].str.startswith('Céréales')].mean()\n",
    "rep2 = rep1[[\"Aliments pour animaux\",\"Nourriture\"]]\n",
    "rep2"
   ]
  },
  {
   "cell_type": "markdown",
   "id": "407d04fe",
   "metadata": {},
   "source": [
    "***Proportion en sous nutrition en Thaïlande et la proportion de manioc exportée en thailande***"
   ]
  },
  {
   "cell_type": "code",
   "execution_count": 21,
   "id": "a1864b4b",
   "metadata": {},
   "outputs": [
    {
     "data": {
      "text/html": [
       "<div>\n",
       "<style scoped>\n",
       "    .dataframe tbody tr th:only-of-type {\n",
       "        vertical-align: middle;\n",
       "    }\n",
       "\n",
       "    .dataframe tbody tr th {\n",
       "        vertical-align: top;\n",
       "    }\n",
       "\n",
       "    .dataframe thead th {\n",
       "        text-align: right;\n",
       "    }\n",
       "</style>\n",
       "<table border=\"1\" class=\"dataframe\">\n",
       "  <thead>\n",
       "    <tr style=\"text-align: right;\">\n",
       "      <th></th>\n",
       "      <th>Pays</th>\n",
       "      <th>Population</th>\n",
       "      <th>Population en sous-nutrition</th>\n",
       "      <th>Pourcentage</th>\n",
       "      <th>Année</th>\n",
       "    </tr>\n",
       "  </thead>\n",
       "  <tbody>\n",
       "    <tr>\n",
       "      <th>185</th>\n",
       "      <td>Thaïlande</td>\n",
       "      <td>6.92e+07</td>\n",
       "      <td>6.20e+06</td>\n",
       "      <td>8.96</td>\n",
       "      <td>2017</td>\n",
       "    </tr>\n",
       "  </tbody>\n",
       "</table>\n",
       "</div>"
      ],
      "text/plain": [
       "          Pays  Population  Population en sous-nutrition  Pourcentage  Année\n",
       "185  Thaïlande    6.92e+07                      6.20e+06         8.96   2017"
      ]
     },
     "execution_count": 21,
     "metadata": {},
     "output_type": "execute_result"
    }
   ],
   "source": [
    "psn = nb_sous_nutrition.loc[nb_sous_nutrition[\"Pays\"]==\"Thaïlande\"]\n",
    "psn"
   ]
  },
  {
   "cell_type": "code",
   "execution_count": 22,
   "id": "24fc6d33",
   "metadata": {
    "scrolled": true
   },
   "outputs": [
    {
     "data": {
      "text/html": [
       "<div>\n",
       "<style scoped>\n",
       "    .dataframe tbody tr th:only-of-type {\n",
       "        vertical-align: middle;\n",
       "    }\n",
       "\n",
       "    .dataframe tbody tr th {\n",
       "        vertical-align: top;\n",
       "    }\n",
       "\n",
       "    .dataframe thead th {\n",
       "        text-align: right;\n",
       "    }\n",
       "</style>\n",
       "<table border=\"1\" class=\"dataframe\">\n",
       "  <thead>\n",
       "    <tr style=\"text-align: right;\">\n",
       "      <th></th>\n",
       "      <th>Pays</th>\n",
       "      <th>Produit</th>\n",
       "      <th>Exportations - Quantité</th>\n",
       "      <th>Nourriture</th>\n",
       "      <th>Production</th>\n",
       "    </tr>\n",
       "  </thead>\n",
       "  <tbody>\n",
       "    <tr>\n",
       "      <th>13809</th>\n",
       "      <td>Thaïlande</td>\n",
       "      <td>Manioc</td>\n",
       "      <td>2.52e+07</td>\n",
       "      <td>871000.0</td>\n",
       "      <td>3.02e+07</td>\n",
       "    </tr>\n",
       "  </tbody>\n",
       "</table>\n",
       "</div>"
      ],
      "text/plain": [
       "            Pays Produit  Exportations - Quantité  Nourriture  Production\n",
       "13809  Thaïlande  Manioc                 2.52e+07    871000.0    3.02e+07"
      ]
     },
     "execution_count": 22,
     "metadata": {},
     "output_type": "execute_result"
    }
   ],
   "source": [
    "pmt = da.loc[(da[\"Pays\"]==\"Thaïlande\") & (da[\"Produit\"]==\"Manioc\")]\n",
    "pmt[[\"Pays\",\"Produit\",\"Exportations - Quantité\",\"Nourriture\",\"Production\"]]\n"
   ]
  },
  {
   "cell_type": "code",
   "execution_count": 23,
   "id": "0bd3342e",
   "metadata": {},
   "outputs": [
    {
     "data": {
      "image/png": "[encoded data removed]",
      "text/plain": [
       "<Figure size 432x288 with 1 Axes>"
      ]
     },
     "metadata": {
      "needs_background": "light"
     },
     "output_type": "display_data"
    }
   ],
   "source": [
    "x = np.array([\"Exportations - Quantité\",\"Production\",\"Nourriture\"])\n",
    "y = np.array([2.52e+07, 3.02e+07, 871000.0])\n",
    "\n",
    "plt.bar(x, y, color = \"g\", alpha = 0.5)\n",
    "\n",
    "plt.show()"
   ]
  },
  {
   "cell_type": "markdown",
   "id": "2774d7b6",
   "metadata": {},
   "source": [
    "**Rapport production / Exportation pays riches vs production / exportation pays pauvres**"
   ]
  },
  {
   "cell_type": "code",
   "execution_count": 31,
   "id": "b77cc185",
   "metadata": {},
   "outputs": [
    {
     "data": {
      "text/plain": [
       "Exportations - Quantité    2.14e+05\n",
       "Production                 9.55e+06\n",
       "Nourriture                 7.20e+06\n",
       "dtype: float64"
      ]
     },
     "execution_count": 31,
     "metadata": {},
     "output_type": "execute_result"
    }
   ],
   "source": [
    "p1 = nbt.groupby(\"Pays\").sum()\n",
    "p2 = p1.loc[p1[\"Disponibilité alimentaire (cal/personne/jour)\"]<= 2100].mean()\n",
    "p2[[\"Exportations - Quantité\",\"Production\",\"Nourriture\"]]"
   ]
  },
  {
   "cell_type": "code",
   "execution_count": 32,
   "id": "f523a9a2",
   "metadata": {},
   "outputs": [
    {
     "data": {
      "image/png": "[encoded data removed]",
      "text/plain": [
       "<Figure size 432x288 with 1 Axes>"
      ]
     },
     "metadata": {
      "needs_background": "light"
     },
     "output_type": "display_data"
    }
   ],
   "source": [
    "x = np.array([\"Exportations - Quantité\",\"Production\",\"Nourriture\"])\n",
    "y = np.array([2.14e+05, 9.55e+06, 7.20e+06])\n",
    "\n",
    "plt.bar(x, y, color = \"y\", alpha = 0.5)\n",
    "\n",
    "plt.show()"
   ]
  },
  {
   "cell_type": "code",
   "execution_count": 26,
   "id": "470b3977",
   "metadata": {},
   "outputs": [
    {
     "data": {
      "text/plain": [
       "Exportations - Quantité    8.02e+06\n",
       "Production                 5.94e+07\n",
       "Nourriture                 2.87e+07\n",
       "dtype: float64"
      ]
     },
     "execution_count": 26,
     "metadata": {},
     "output_type": "execute_result"
    }
   ],
   "source": [
    "p1 = nbt.groupby(\"Pays\").sum()\n",
    "p2 = p1.loc[p1[\"Disponibilité alimentaire (cal/personne/jour)\"]>= 2100].mean()\n",
    "p2[[\"Exportations - Quantité\",\"Production\",\"Nourriture\"]]"
   ]
  },
  {
   "cell_type": "code",
   "execution_count": 30,
   "id": "9842e18b",
   "metadata": {},
   "outputs": [
    {
     "data": {
      "image/png": "[encoded data removed]",
      "text/plain": [
       "<Figure size 432x288 with 1 Axes>"
      ]
     },
     "metadata": {
      "needs_background": "light"
     },
     "output_type": "display_data"
    }
   ],
   "source": [
    "x = np.array([\"Exportations - Quantité\",\"Production\",\"Nourriture\"])\n",
    "y = np.array([8.02e+06, 5.94e+07, 2.87e+07])\n",
    "\n",
    "plt.bar(x, y, color = \"r\", alpha = 0.5)\n",
    "\n",
    "plt.show()"
   ]
  },
  {
   "cell_type": "code",
   "execution_count": 28,
   "id": "75ddf5d2",
   "metadata": {},
   "outputs": [
    {
     "data": {
      "text/plain": [
       "Exportations - Quantité     50430000.0\n",
       "Production                 201764000.0\n",
       "Nourriture                  39283000.0\n",
       "dtype: object"
      ]
     },
     "execution_count": 28,
     "metadata": {},
     "output_type": "execute_result"
    }
   ],
   "source": [
    "# Idem pour la Thaïlande\n",
    "\n",
    "p1 = nbt.groupby(\"Pays\").sum()\n",
    "p2 = da.loc[da[\"Pays\"]==\"Thaïlande\"].sum()\n",
    "p2[[\"Exportations - Quantité\",\"Production\",\"Nourriture\"]]"
   ]
  },
  {
   "cell_type": "code",
   "execution_count": 29,
   "id": "e6381ca8",
   "metadata": {},
   "outputs": [
    {
     "data": {
      "image/png": "[encoded data removed]",
      "text/plain": [
       "<Figure size 432x288 with 1 Axes>"
      ]
     },
     "metadata": {
      "needs_background": "light"
     },
     "output_type": "display_data"
    }
   ],
   "source": [
    "x = np.array([\"Exportations - Quantité\",\"Production\",\"Nourriture\"])\n",
    "y = np.array([50430000, 201764000, 39283000])\n",
    "\n",
    "plt.bar(x, y, color = \"k\", alpha = 0.5)\n",
    "\n",
    "plt.show()"
   ]
  },
  {
   "cell_type": "markdown",
   "id": "7982d75a",
   "metadata": {},
   "source": [
    "Contrairement aux autres pays, la Thaïlande a tendance à davantage exporter"
   ]
  }
 ],
 "metadata": {
  "kernelspec": {
   "display_name": "Python 3",
   "language": "python",
   "name": "python3"
  },
  "language_info": {
   "codemirror_mode": {
    "name": "ipython",
    "version": 3
   },
   "file_extension": ".py",
   "mimetype": "text/x-python",
   "name": "python",
   "nbconvert_exporter": "python",
   "pygments_lexer": "ipython3",
   "version": "3.8.8"
  }
 },
 "nbformat": 4,
 "nbformat_minor": 5
}
